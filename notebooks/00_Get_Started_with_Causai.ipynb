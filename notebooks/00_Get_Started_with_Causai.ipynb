{
 "metadata": {
  "language_info": {
   "codemirror_mode": {
    "name": "ipython",
    "version": 3
   },
   "file_extension": ".py",
   "mimetype": "text/x-python",
   "name": "python",
   "nbconvert_exporter": "python",
   "pygments_lexer": "ipython3",
   "version": "3.7.6-final"
  },
  "orig_nbformat": 2,
  "kernelspec": {
   "name": "python_defaultSpec_1600719840151",
   "display_name": "Python 3.7.6 64-bit ('anaconda3': virtualenv)"
  }
 },
 "nbformat": 4,
 "nbformat_minor": 2,
 "cells": [
  {
   "source": [
    "# Get Started with Causai"
   ],
   "cell_type": "markdown",
   "metadata": {}
  },
  {
   "source": [
    "[![Open In Colab](https://colab.research.google.com/assets/colab-badge.svg)](https://colab.research.google.com/github/DanielhCarranza/causai/blob/master/notebooks/00_Get_Started_with_Causai.ipynb)\n",
    "\n",
    "If you are running in colab follow the steps below:\n",
    "\n",
    "``` \n",
    "    git clone  https://github.com/DanielhCarranza/causai.git\n",
    "    cd causai\n",
    "    pip install -r requirements.txt  \n",
    "```\n"
   ],
   "cell_type": "markdown",
   "metadata": {}
  },
  {
   "cell_type": "code",
   "execution_count": 26,
   "metadata": {
    "tags": []
   },
   "outputs": [],
   "source": [
    "from importlib.util import find_spec\n",
    "if find_spec(\"causai\") is None:\n",
    "    import sys\n",
    "    sys.path.append('..')\n",
    "\n",
    "import pandas as pd\n",
    "\n",
    "import causai\n",
    "# from causai.models import SomeCausalModel\n",
    "# from causai.interpreter import SomeInterpreter\n",
    "from causai.datasets.syntheticdataset import SyntheticDataset\n",
    "\n",
    "%autoreload 2\n",
    "%matplotlib inline\n",
    "%reload_ext autoreload"
   ]
  },
  {
   "cell_type": "code",
   "execution_count": 13,
   "metadata": {},
   "outputs": [],
   "source": [
    "data = SyntheticDataset().generate_data()"
   ]
  },
  {
   "cell_type": "code",
   "execution_count": 14,
   "metadata": {},
   "outputs": [
    {
     "output_type": "execute_result",
     "data": {
      "text/plain": "   blood_pressure  sodium        age  proteinuria\n0      147.157602       1  73.820262    46.140554\n1      133.339602       1  67.000786    40.970603\n2      139.833515       0  69.893690    41.835567\n3      152.500558       1  76.204466    46.401798\n4      149.644768       1  74.337790    44.082575",
      "text/html": "<div>\n<style scoped>\n    .dataframe tbody tr th:only-of-type {\n        vertical-align: middle;\n    }\n\n    .dataframe tbody tr th {\n        vertical-align: top;\n    }\n\n    .dataframe thead th {\n        text-align: right;\n    }\n</style>\n<table border=\"1\" class=\"dataframe\">\n  <thead>\n    <tr style=\"text-align: right;\">\n      <th></th>\n      <th>blood_pressure</th>\n      <th>sodium</th>\n      <th>age</th>\n      <th>proteinuria</th>\n    </tr>\n  </thead>\n  <tbody>\n    <tr>\n      <th>0</th>\n      <td>147.157602</td>\n      <td>1</td>\n      <td>73.820262</td>\n      <td>46.140554</td>\n    </tr>\n    <tr>\n      <th>1</th>\n      <td>133.339602</td>\n      <td>1</td>\n      <td>67.000786</td>\n      <td>40.970603</td>\n    </tr>\n    <tr>\n      <th>2</th>\n      <td>139.833515</td>\n      <td>0</td>\n      <td>69.893690</td>\n      <td>41.835567</td>\n    </tr>\n    <tr>\n      <th>3</th>\n      <td>152.500558</td>\n      <td>1</td>\n      <td>76.204466</td>\n      <td>46.401798</td>\n    </tr>\n    <tr>\n      <th>4</th>\n      <td>149.644768</td>\n      <td>1</td>\n      <td>74.337790</td>\n      <td>44.082575</td>\n    </tr>\n  </tbody>\n</table>\n</div>"
     },
     "metadata": {},
     "execution_count": 14
    }
   ],
   "source": [
    "data.head()"
   ]
  },
  {
   "cell_type": "code",
   "execution_count": 16,
   "metadata": {},
   "outputs": [],
   "source": [
    "from sklearn.linear_model import LinearRegression\n",
    "def estimate_causal_effect(Xt, y, model=LinearRegression(), treatment_idx=0, regression_coef=False):\n",
    "    model.fit(Xt, y)\n",
    "    if regression_coef:\n",
    "        return model.coef_[treatment_idx]\n",
    "    else:\n",
    "        Xt1 = pd.DataFrame.copy(Xt)\n",
    "        Xt1[Xt.columns[treatment_idx]] = 1\n",
    "        Xt0 = pd.DataFrame.copy(Xt)\n",
    "        Xt0[Xt.columns[treatment_idx]] = 0\n",
    "        return (model.predict(Xt1) - model.predict(Xt0)).mean()"
   ]
  },
  {
   "cell_type": "code",
   "execution_count": 19,
   "metadata": {},
   "outputs": [],
   "source": [
    "continuous_t_df= SyntheticDataset().generate_data(binary_treatment=False)\n",
    "binary_t_df = SyntheticDataset().generate_data()"
   ]
  },
  {
   "cell_type": "code",
   "execution_count": 33,
   "metadata": {
    "tags": []
   },
   "outputs": [],
   "source": [
    "ate_est_naive = None\n",
    "ate_est_adjust_all = None\n",
    "ate_est_adjust_age = None\n",
    "\n",
    "def adjusment_estimates(df):\n",
    "    # Adjustment formula estimates\n",
    "    ate_est_naive = estimate_causal_effect(df[['sodium']], df['blood_pressure'], treatment_idx=0)\n",
    "    ate_est_adjust_all = estimate_causal_effect(df[['sodium', 'age', 'proteinuria']],\n",
    "                                                df['blood_pressure'], treatment_idx=0)\n",
    "    ate_est_adjust_age = estimate_causal_effect(df[['sodium', 'age']], df['blood_pressure'])\n",
    "    print('# Adjustment Formula Estimates #')\n",
    "    print('Naive ATE estimate:\\t\\t\\t\\t\\t\\t\\t', ate_est_naive)\n",
    "    print('ATE estimate adjusting for all covariates:\\t', ate_est_adjust_all)\n",
    "    print('ATE estimate adjusting for age:\\t\\t\\t\\t', ate_est_adjust_age)\n",
    "    print()\n",
    "\n",
    "def regression_coef_estimates(df):\n",
    "    # Linear regression coefficient estimates\n",
    "    ate_est_naive = estimate_causal_effect(df[['sodium']], df['blood_pressure'], treatment_idx=0,\n",
    "                                            regression_coef=True)\n",
    "    ate_est_adjust_all = estimate_causal_effect(df[['sodium', 'age', 'proteinuria']],\n",
    "                                                df['blood_pressure'], treatment_idx=0,\n",
    "                                                regression_coef=True)\n",
    "    ate_est_adjust_age = estimate_causal_effect(df[['sodium', 'age']], df['blood_pressure'],\n",
    "                                                regression_coef=True)\n",
    "    print('# Regression Coefficient Estimates #')\n",
    "    print('Naive ATE estimate:\\t\\t\\t\\t\\t\\t\\t', ate_est_naive)\n",
    "    print('ATE estimate adjusting for all covariates:\\t', ate_est_adjust_all)\n",
    "    print('ATE estimate adjusting for age:\\t\\t\\t\\t', ate_est_adjust_age)\n",
    "    print()"
   ]
  },
  {
   "cell_type": "code",
   "execution_count": 30,
   "metadata": {
    "tags": []
   },
   "outputs": [
    {
     "output_type": "stream",
     "name": "stdout",
     "text": "Binary Data \n\n# Adjustment Formula Estimates #\nNaive ATE estimate:\t\t\t\t\t\t\t 4.923220185643586\nATE estimate adjusting for all covariates:\t 0.9282888903232218\nATE estimate adjusting for age:\t\t\t\t 1.119149017071768\n\n# Regression Coefficient Estimates #\nNaive ATE estimate:\t\t\t\t\t\t\t 4.92322018564359\nATE estimate adjusting for all covariates:\t 0.9282888903232221\nATE estimate adjusting for age:\t\t\t\t 1.1191490170717682\n\n"
    }
   ],
   "source": [
    "print('  Binary Data ')\n",
    "print()\n",
    "adjusment_estimates(binary_t_df)\n",
    "regression_coef_estimates(binary_t_df)"
   ]
  },
  {
   "cell_type": "code",
   "execution_count": 32,
   "metadata": {
    "tags": []
   },
   "outputs": [
    {
     "output_type": "stream",
     "name": "stdout",
     "text": "Continuous Data \n\n# Adjustment Formula Estimates #\nNaive ATE estimate:\t\t\t\t\t\t\t 3.4548087255162017\nATE estimate adjusting for all covariates:\t 0.8625915379860507\nATE estimate adjusting for age:\t\t\t\t 1.0481919455639501\n\n# Regression Coefficient Estimates #\nNaive ATE estimate:\t\t\t\t\t\t\t 3.4548087255162034\nATE estimate adjusting for all covariates:\t 0.8625915379860509\nATE estimate adjusting for age:\t\t\t\t 1.0481919455639503\n\n"
    }
   ],
   "source": [
    "print('  Continuous Data ')\n",
    "print()\n",
    "adjusment_estimates(continuous_t_df)\n",
    "regression_coef_estimates(continuous_t_df)"
   ]
  },
  {
   "cell_type": "code",
   "execution_count": null,
   "metadata": {},
   "outputs": [],
   "source": []
  },
  {
   "cell_type": "code",
   "execution_count": null,
   "metadata": {},
   "outputs": [],
   "source": []
  },
  {
   "cell_type": "code",
   "execution_count": null,
   "metadata": {},
   "outputs": [],
   "source": []
  },
  {
   "cell_type": "code",
   "execution_count": null,
   "metadata": {},
   "outputs": [],
   "source": []
  }
 ]
}